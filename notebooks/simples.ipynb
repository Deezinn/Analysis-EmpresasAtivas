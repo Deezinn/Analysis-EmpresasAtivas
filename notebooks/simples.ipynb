{
 "cells": [
  {
   "cell_type": "markdown",
   "metadata": {},
   "source": [
    "## Trabalharemos com a análise de empresas ativas no Recife."
   ]
  },
  {
   "cell_type": "markdown",
   "metadata": {},
   "source": [
    "### Importando:"
   ]
  },
  {
   "cell_type": "code",
   "execution_count": 16,
   "metadata": {},
   "outputs": [],
   "source": [
    "import pandas as pd\n",
    "import numpy as np"
   ]
  },
  {
   "cell_type": "code",
   "execution_count": 17,
   "metadata": {},
   "outputs": [],
   "source": [
    "simples = pd.read_csv('/home/deezinn/Documentos/Meus Projetos Pessoais/Analysis-EmpresasAtivas/data/SIMPLES.csv',\n",
    "                             sep=',',\n",
    "                             low_memory=False )"
   ]
  },
  {
   "cell_type": "code",
   "execution_count": 18,
   "metadata": {},
   "outputs": [],
   "source": [
    "pd.set_option('display.max_columns', None)"
   ]
  },
  {
   "cell_type": "code",
   "execution_count": 20,
   "metadata": {},
   "outputs": [],
   "source": [
    "transformar_datetime = ['DATA DE ADESAO AO SIMPLES', 'DATA DE EXCLUSAO DO SIMPLES' , 'DATA DE ADESAO AO MEI', 'DATA DE EXCLUSAO DO MEI']\n",
    "\n",
    "\n",
    "\n",
    "for colunas in transformar_datetime:\n",
    "    simples[colunas] = pd.to_datetime(\n",
    "        simples[colunas],\n",
    "        format='%Y%m%d',\n",
    "        errors='coerce'\n",
    "    )\n"
   ]
  },
  {
   "cell_type": "code",
   "execution_count": 21,
   "metadata": {},
   "outputs": [
    {
     "data": {
      "text/html": [
       "<div>\n",
       "<style scoped>\n",
       "    .dataframe tbody tr th:only-of-type {\n",
       "        vertical-align: middle;\n",
       "    }\n",
       "\n",
       "    .dataframe tbody tr th {\n",
       "        vertical-align: top;\n",
       "    }\n",
       "\n",
       "    .dataframe thead th {\n",
       "        text-align: right;\n",
       "    }\n",
       "</style>\n",
       "<table border=\"1\" class=\"dataframe\">\n",
       "  <thead>\n",
       "    <tr style=\"text-align: right;\">\n",
       "      <th></th>\n",
       "      <th>CNPJ BASICO</th>\n",
       "      <th>OPTANTE PELO SIMPLES?</th>\n",
       "      <th>DATA DE ADESAO AO SIMPLES</th>\n",
       "      <th>DATA DE EXCLUSAO DO SIMPLES</th>\n",
       "      <th>OPTANTE PELO MEI?</th>\n",
       "      <th>DATA DE ADESAO AO MEI</th>\n",
       "      <th>DATA DE EXCLUSAO DO MEI</th>\n",
       "    </tr>\n",
       "  </thead>\n",
       "  <tbody>\n",
       "    <tr>\n",
       "      <th>0</th>\n",
       "      <td>0</td>\n",
       "      <td>NAO</td>\n",
       "      <td>2007-07-01</td>\n",
       "      <td>2007-07-01</td>\n",
       "      <td>NAO</td>\n",
       "      <td>2009-07-01</td>\n",
       "      <td>2009-07-01</td>\n",
       "    </tr>\n",
       "    <tr>\n",
       "      <th>1</th>\n",
       "      <td>19357</td>\n",
       "      <td>NAO</td>\n",
       "      <td>2007-07-01</td>\n",
       "      <td>2010-12-31</td>\n",
       "      <td>NAO</td>\n",
       "      <td>NaT</td>\n",
       "      <td>NaT</td>\n",
       "    </tr>\n",
       "    <tr>\n",
       "      <th>2</th>\n",
       "      <td>28607</td>\n",
       "      <td>NAO</td>\n",
       "      <td>2007-07-01</td>\n",
       "      <td>2011-12-31</td>\n",
       "      <td>NAO</td>\n",
       "      <td>NaT</td>\n",
       "      <td>NaT</td>\n",
       "    </tr>\n",
       "    <tr>\n",
       "      <th>3</th>\n",
       "      <td>59281</td>\n",
       "      <td>SIM</td>\n",
       "      <td>2022-01-01</td>\n",
       "      <td>NaT</td>\n",
       "      <td>NAO</td>\n",
       "      <td>NaT</td>\n",
       "      <td>NaT</td>\n",
       "    </tr>\n",
       "    <tr>\n",
       "      <th>4</th>\n",
       "      <td>79526</td>\n",
       "      <td>NAO</td>\n",
       "      <td>2008-01-01</td>\n",
       "      <td>2013-12-31</td>\n",
       "      <td>NAO</td>\n",
       "      <td>NaT</td>\n",
       "      <td>NaT</td>\n",
       "    </tr>\n",
       "  </tbody>\n",
       "</table>\n",
       "</div>"
      ],
      "text/plain": [
       "   CNPJ BASICO OPTANTE PELO SIMPLES? DATA DE ADESAO AO SIMPLES  \\\n",
       "0            0                   NAO                2007-07-01   \n",
       "1        19357                   NAO                2007-07-01   \n",
       "2        28607                   NAO                2007-07-01   \n",
       "3        59281                   SIM                2022-01-01   \n",
       "4        79526                   NAO                2008-01-01   \n",
       "\n",
       "  DATA DE EXCLUSAO DO SIMPLES OPTANTE PELO MEI? DATA DE ADESAO AO MEI  \\\n",
       "0                  2007-07-01               NAO            2009-07-01   \n",
       "1                  2010-12-31               NAO                   NaT   \n",
       "2                  2011-12-31               NAO                   NaT   \n",
       "3                         NaT               NAO                   NaT   \n",
       "4                  2013-12-31               NAO                   NaT   \n",
       "\n",
       "  DATA DE EXCLUSAO DO MEI  \n",
       "0              2009-07-01  \n",
       "1                     NaT  \n",
       "2                     NaT  \n",
       "3                     NaT  \n",
       "4                     NaT  "
      ]
     },
     "execution_count": 21,
     "metadata": {},
     "output_type": "execute_result"
    }
   ],
   "source": [
    "simples.head()"
   ]
  }
 ],
 "metadata": {
  "kernelspec": {
   "display_name": "ambiente_estudos",
   "language": "python",
   "name": "python3"
  },
  "language_info": {
   "codemirror_mode": {
    "name": "ipython",
    "version": 3
   },
   "file_extension": ".py",
   "mimetype": "text/x-python",
   "name": "python",
   "nbconvert_exporter": "python",
   "pygments_lexer": "ipython3",
   "version": "3.13.1"
  }
 },
 "nbformat": 4,
 "nbformat_minor": 2
}
