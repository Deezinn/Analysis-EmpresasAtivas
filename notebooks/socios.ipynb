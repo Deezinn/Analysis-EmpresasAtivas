{
 "cells": [
  {
   "cell_type": "markdown",
   "metadata": {},
   "source": [
    "## Trabalharemos com a análise de empresas ativas no Recife."
   ]
  },
  {
   "cell_type": "markdown",
   "metadata": {},
   "source": [
    "### Importando:"
   ]
  },
  {
   "cell_type": "code",
   "execution_count": 2,
   "metadata": {},
   "outputs": [],
   "source": [
    "import pandas as pd\n",
    "import numpy as np"
   ]
  },
  {
   "cell_type": "code",
   "execution_count": 3,
   "metadata": {},
   "outputs": [],
   "source": [
    "socios = pd.read_csv('/home/deezinn/Documentos/Meus Projetos Pessoais/Analysis-EmpresasAtivas/data/SOCIOS.csv',\n",
    "                             sep=',',\n",
    "                             encoding='utf-8',\n",
    "                             low_memory=False )"
   ]
  },
  {
   "cell_type": "code",
   "execution_count": 4,
   "metadata": {},
   "outputs": [],
   "source": [
    "pd.set_option('display.max_columns', None)"
   ]
  },
  {
   "cell_type": "code",
   "execution_count": 5,
   "metadata": {},
   "outputs": [
    {
     "data": {
      "text/html": [
       "<div>\n",
       "<style scoped>\n",
       "    .dataframe tbody tr th:only-of-type {\n",
       "        vertical-align: middle;\n",
       "    }\n",
       "\n",
       "    .dataframe tbody tr th {\n",
       "        vertical-align: top;\n",
       "    }\n",
       "\n",
       "    .dataframe thead th {\n",
       "        text-align: right;\n",
       "    }\n",
       "</style>\n",
       "<table border=\"1\" class=\"dataframe\">\n",
       "  <thead>\n",
       "    <tr style=\"text-align: right;\">\n",
       "      <th></th>\n",
       "      <th>CNPJ BASICO</th>\n",
       "      <th>IDENTIFICADOR DO SOCIO</th>\n",
       "      <th>NOME DO SOCIO</th>\n",
       "      <th>CPF DO SOCIO</th>\n",
       "      <th>QUALIFICACAO DO SOCIO</th>\n",
       "      <th>DATA DE ENTRADA DA SOCIEDADE</th>\n",
       "      <th>PAIS</th>\n",
       "      <th>REPRESENTANTE LEGAL</th>\n",
       "      <th>NOME DO REPRESENTANTE</th>\n",
       "      <th>QUALIFICACAO DO REPRESENTANTE LEGAL</th>\n",
       "      <th>FAIXA ETARIA</th>\n",
       "    </tr>\n",
       "  </thead>\n",
       "  <tbody>\n",
       "    <tr>\n",
       "      <th>0</th>\n",
       "      <td>23588623</td>\n",
       "      <td>PESSOA FISICA</td>\n",
       "      <td>HAMANDA MARIA DE SOUZA</td>\n",
       "      <td>***641544**</td>\n",
       "      <td>SÓCIO-ADMINISTRADOR</td>\n",
       "      <td>20151103</td>\n",
       "      <td>NaN</td>\n",
       "      <td>***000000**</td>\n",
       "      <td>NaN</td>\n",
       "      <td>NÃO INFORMADA</td>\n",
       "      <td>41-50 anos</td>\n",
       "    </tr>\n",
       "    <tr>\n",
       "      <th>1</th>\n",
       "      <td>23588988</td>\n",
       "      <td>PESSOA FISICA</td>\n",
       "      <td>EMANUEL MESSIAS DE FIGUEIREDO</td>\n",
       "      <td>***037174**</td>\n",
       "      <td>SÓCIO-ADMINISTRADOR</td>\n",
       "      <td>20151103</td>\n",
       "      <td>NaN</td>\n",
       "      <td>***000000**</td>\n",
       "      <td>NaN</td>\n",
       "      <td>NÃO INFORMADA</td>\n",
       "      <td>41-50 anos</td>\n",
       "    </tr>\n",
       "    <tr>\n",
       "      <th>2</th>\n",
       "      <td>23595463</td>\n",
       "      <td>PESSOA FISICA</td>\n",
       "      <td>CLAUDIO ROBERTO FABRICIO DA SILVA</td>\n",
       "      <td>***670204**</td>\n",
       "      <td>SÓCIO-ADMINISTRADOR</td>\n",
       "      <td>20181130</td>\n",
       "      <td>NaN</td>\n",
       "      <td>***000000**</td>\n",
       "      <td>NaN</td>\n",
       "      <td>NÃO INFORMADA</td>\n",
       "      <td>51-60 anos</td>\n",
       "    </tr>\n",
       "    <tr>\n",
       "      <th>3</th>\n",
       "      <td>23603499</td>\n",
       "      <td>PESSOA FISICA</td>\n",
       "      <td>LEOCADIA MIRELLE DE SOUZA MELO</td>\n",
       "      <td>***450904**</td>\n",
       "      <td>SÓCIO-ADMINISTRADOR</td>\n",
       "      <td>20151105</td>\n",
       "      <td>NaN</td>\n",
       "      <td>***000000**</td>\n",
       "      <td>NaN</td>\n",
       "      <td>NÃO INFORMADA</td>\n",
       "      <td>31-40 anos</td>\n",
       "    </tr>\n",
       "    <tr>\n",
       "      <th>4</th>\n",
       "      <td>23604687</td>\n",
       "      <td>PESSOA FISICA</td>\n",
       "      <td>TIBERIO MENEZES DE SIQUEIRA</td>\n",
       "      <td>***537794**</td>\n",
       "      <td>SÓCIO-ADMINISTRADOR</td>\n",
       "      <td>20151105</td>\n",
       "      <td>NaN</td>\n",
       "      <td>***000000**</td>\n",
       "      <td>NaN</td>\n",
       "      <td>NÃO INFORMADA</td>\n",
       "      <td>61-70 anos</td>\n",
       "    </tr>\n",
       "  </tbody>\n",
       "</table>\n",
       "</div>"
      ],
      "text/plain": [
       "   CNPJ BASICO IDENTIFICADOR DO SOCIO                      NOME DO SOCIO  \\\n",
       "0     23588623          PESSOA FISICA             HAMANDA MARIA DE SOUZA   \n",
       "1     23588988          PESSOA FISICA      EMANUEL MESSIAS DE FIGUEIREDO   \n",
       "2     23595463          PESSOA FISICA  CLAUDIO ROBERTO FABRICIO DA SILVA   \n",
       "3     23603499          PESSOA FISICA     LEOCADIA MIRELLE DE SOUZA MELO   \n",
       "4     23604687          PESSOA FISICA        TIBERIO MENEZES DE SIQUEIRA   \n",
       "\n",
       "  CPF DO SOCIO QUALIFICACAO DO SOCIO  DATA DE ENTRADA DA SOCIEDADE PAIS  \\\n",
       "0  ***641544**   SÓCIO-ADMINISTRADOR                      20151103  NaN   \n",
       "1  ***037174**   SÓCIO-ADMINISTRADOR                      20151103  NaN   \n",
       "2  ***670204**   SÓCIO-ADMINISTRADOR                      20181130  NaN   \n",
       "3  ***450904**   SÓCIO-ADMINISTRADOR                      20151105  NaN   \n",
       "4  ***537794**   SÓCIO-ADMINISTRADOR                      20151105  NaN   \n",
       "\n",
       "  REPRESENTANTE LEGAL NOME DO REPRESENTANTE  \\\n",
       "0         ***000000**                   NaN   \n",
       "1         ***000000**                   NaN   \n",
       "2         ***000000**                   NaN   \n",
       "3         ***000000**                   NaN   \n",
       "4         ***000000**                   NaN   \n",
       "\n",
       "  QUALIFICACAO DO REPRESENTANTE LEGAL FAIXA ETARIA  \n",
       "0                       NÃO INFORMADA   41-50 anos  \n",
       "1                       NÃO INFORMADA   41-50 anos  \n",
       "2                       NÃO INFORMADA   51-60 anos  \n",
       "3                       NÃO INFORMADA   31-40 anos  \n",
       "4                       NÃO INFORMADA   61-70 anos  "
      ]
     },
     "execution_count": 5,
     "metadata": {},
     "output_type": "execute_result"
    }
   ],
   "source": [
    "socios.head()"
   ]
  }
 ],
 "metadata": {
  "kernelspec": {
   "display_name": "ambiente_estudos",
   "language": "python",
   "name": "python3"
  },
  "language_info": {
   "codemirror_mode": {
    "name": "ipython",
    "version": 3
   },
   "file_extension": ".py",
   "mimetype": "text/x-python",
   "name": "python",
   "nbconvert_exporter": "python",
   "pygments_lexer": "ipython3",
   "version": "3.13.1"
  }
 },
 "nbformat": 4,
 "nbformat_minor": 2
}
