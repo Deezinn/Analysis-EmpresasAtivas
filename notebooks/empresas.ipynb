{
 "cells": [
  {
   "cell_type": "markdown",
   "metadata": {},
   "source": [
    "## Trabalharemos com a análise de empresas ativas no Recife."
   ]
  },
  {
   "cell_type": "markdown",
   "metadata": {},
   "source": [
    "### Importando:"
   ]
  },
  {
   "cell_type": "code",
   "execution_count": 90,
   "metadata": {},
   "outputs": [],
   "source": [
    "import pandas as pd\n",
    "import numpy as np"
   ]
  },
  {
   "cell_type": "code",
   "execution_count": 91,
   "metadata": {},
   "outputs": [],
   "source": [
    "empresasAtivas = pd.read_csv('/home/deezinn/Documentos/Meus Projetos Pessoais/Analysis-EmpresasAtivas/data/EMPRESAS.csv',\n",
    "                             sep=',',\n",
    "                             encoding='utf-8',\n",
    "                             low_memory=False )"
   ]
  },
  {
   "cell_type": "code",
   "execution_count": 92,
   "metadata": {},
   "outputs": [],
   "source": [
    "pd.set_option('display.max_columns', None)"
   ]
  },
  {
   "cell_type": "code",
   "execution_count": 93,
   "metadata": {},
   "outputs": [
    {
     "data": {
      "text/html": [
       "<div>\n",
       "<style scoped>\n",
       "    .dataframe tbody tr th:only-of-type {\n",
       "        vertical-align: middle;\n",
       "    }\n",
       "\n",
       "    .dataframe tbody tr th {\n",
       "        vertical-align: top;\n",
       "    }\n",
       "\n",
       "    .dataframe thead th {\n",
       "        text-align: right;\n",
       "    }\n",
       "</style>\n",
       "<table border=\"1\" class=\"dataframe\">\n",
       "  <thead>\n",
       "    <tr style=\"text-align: right;\">\n",
       "      <th></th>\n",
       "      <th>CNPJ BASICO</th>\n",
       "      <th>RAZAO SOCIAL / NOME EMPRESARIAL</th>\n",
       "      <th>NATUREZA JURIDICA</th>\n",
       "      <th>QUALIFICACAO DO SOCIO</th>\n",
       "      <th>CAPITAL SOCIAL DA EMPRESA</th>\n",
       "      <th>PORTE DA EMPRESA</th>\n",
       "      <th>ENTE FEDERATIVO RESPONSAVEL</th>\n",
       "    </tr>\n",
       "  </thead>\n",
       "  <tbody>\n",
       "    <tr>\n",
       "      <th>0</th>\n",
       "      <td>0</td>\n",
       "      <td>BANCO DO BRASIL SA</td>\n",
       "      <td>SOCIEDADE DE ECONOMIA MISTA</td>\n",
       "      <td>DIRETOR</td>\n",
       "      <td>120000000000,00</td>\n",
       "      <td>DEMAIS</td>\n",
       "      <td>NaN</td>\n",
       "    </tr>\n",
       "    <tr>\n",
       "      <th>1</th>\n",
       "      <td>633</td>\n",
       "      <td>INSTITUTO QUALIDADE NO ENSINO</td>\n",
       "      <td>ASSOCIAÇÃO PRIVADA</td>\n",
       "      <td>PRESIDENTE</td>\n",
       "      <td>0,00</td>\n",
       "      <td>DEMAIS</td>\n",
       "      <td>NaN</td>\n",
       "    </tr>\n",
       "    <tr>\n",
       "      <th>2</th>\n",
       "      <td>802</td>\n",
       "      <td>HC PNEUS S/A</td>\n",
       "      <td>SOCIEDADE ANÔNIMA FECHADA</td>\n",
       "      <td>DIRETOR</td>\n",
       "      <td>204418998,00</td>\n",
       "      <td>DEMAIS</td>\n",
       "      <td>NaN</td>\n",
       "    </tr>\n",
       "    <tr>\n",
       "      <th>3</th>\n",
       "      <td>2927</td>\n",
       "      <td>TRANSMETA TRANSPORTES RODOVIARIOS DE CARGAS LTDA</td>\n",
       "      <td>SOCIEDADE EMPRESÁRIA LIMITADA</td>\n",
       "      <td>SÓCIO-ADMINISTRADOR</td>\n",
       "      <td>800000,00</td>\n",
       "      <td>DEMAIS</td>\n",
       "      <td>NaN</td>\n",
       "    </tr>\n",
       "    <tr>\n",
       "      <th>4</th>\n",
       "      <td>5050</td>\n",
       "      <td>INTEGRE DO BRASIL S/A INDUSTRIA COM IMP EXP TR...</td>\n",
       "      <td>SOCIEDADE ANÔNIMA FECHADA</td>\n",
       "      <td>PRESIDENTE</td>\n",
       "      <td>0,00</td>\n",
       "      <td>DEMAIS</td>\n",
       "      <td>NaN</td>\n",
       "    </tr>\n",
       "  </tbody>\n",
       "</table>\n",
       "</div>"
      ],
      "text/plain": [
       "   CNPJ BASICO                    RAZAO SOCIAL / NOME EMPRESARIAL  \\\n",
       "0            0                                 BANCO DO BRASIL SA   \n",
       "1          633                      INSTITUTO QUALIDADE NO ENSINO   \n",
       "2          802                                       HC PNEUS S/A   \n",
       "3         2927   TRANSMETA TRANSPORTES RODOVIARIOS DE CARGAS LTDA   \n",
       "4         5050  INTEGRE DO BRASIL S/A INDUSTRIA COM IMP EXP TR...   \n",
       "\n",
       "               NATUREZA JURIDICA QUALIFICACAO DO SOCIO  \\\n",
       "0    SOCIEDADE DE ECONOMIA MISTA               DIRETOR   \n",
       "1             ASSOCIAÇÃO PRIVADA            PRESIDENTE   \n",
       "2      SOCIEDADE ANÔNIMA FECHADA               DIRETOR   \n",
       "3  SOCIEDADE EMPRESÁRIA LIMITADA   SÓCIO-ADMINISTRADOR   \n",
       "4      SOCIEDADE ANÔNIMA FECHADA            PRESIDENTE   \n",
       "\n",
       "  CAPITAL SOCIAL DA EMPRESA PORTE DA EMPRESA ENTE FEDERATIVO RESPONSAVEL  \n",
       "0           120000000000,00           DEMAIS                         NaN  \n",
       "1                      0,00           DEMAIS                         NaN  \n",
       "2              204418998,00           DEMAIS                         NaN  \n",
       "3                 800000,00           DEMAIS                         NaN  \n",
       "4                      0,00           DEMAIS                         NaN  "
      ]
     },
     "execution_count": 93,
     "metadata": {},
     "output_type": "execute_result"
    }
   ],
   "source": [
    "empresasAtivas.head()"
   ]
  },
  {
   "cell_type": "markdown",
   "metadata": {},
   "source": [
    "### Passo 1: dentificar registros duplicados, especialmente nos campos críticos como **CNPJ**, **razão social**, ou **localização**."
   ]
  },
  {
   "cell_type": "code",
   "execution_count": 94,
   "metadata": {},
   "outputs": [
    {
     "data": {
      "text/plain": [
       "False    532580\n",
       "Name: count, dtype: int64"
      ]
     },
     "execution_count": 94,
     "metadata": {},
     "output_type": "execute_result"
    }
   ],
   "source": [
    "registros_duplicados = empresasAtivas[['CNPJ BASICO', 'RAZAO SOCIAL / NOME EMPRESARIAL']].duplicated().value_counts()\n",
    "registros_duplicados"
   ]
  }
 ],
 "metadata": {
  "kernelspec": {
   "display_name": "ambiente_estudos",
   "language": "python",
   "name": "python3"
  },
  "language_info": {
   "codemirror_mode": {
    "name": "ipython",
    "version": 3
   },
   "file_extension": ".py",
   "mimetype": "text/x-python",
   "name": "python",
   "nbconvert_exporter": "python",
   "pygments_lexer": "ipython3",
   "version": "3.13.1"
  }
 },
 "nbformat": 4,
 "nbformat_minor": 2
}
